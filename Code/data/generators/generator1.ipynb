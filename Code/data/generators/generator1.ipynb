{
 "cells": [
  {
   "cell_type": "code",
   "execution_count": 2,
   "metadata": {},
   "outputs": [],
   "source": [
    "import numpy as np"
   ]
  },
  {
   "cell_type": "code",
   "execution_count": 6,
   "metadata": {},
   "outputs": [],
   "source": [
    "# dimension of each input sample\n",
    "m = 5000\n",
    "# total number of input samples\n",
    "n = 100000\n",
    "# standard deviation of positive and negative distributions\n",
    "std = 1\n",
    "# distance from 0 each distribution is centered\n",
    "mean = .25\n",
    "\n",
    "# draw values from negative distribution to create negative samples\n",
    "x_neg = np.random.normal(loc=-mean, scale=std, size=(int(n/2), m))\n",
    "y_neg = np.full((int(n/2), 1), -1)\n",
    "data_neg = np.concatenate((x_neg, y_neg), axis=1)\n",
    "# draw values from positive distribution to create positive samples\n",
    "x_pos = np.random.normal(loc=mean, scale=std, size=(int(n/2), m))\n",
    "y_pos = np.full((int(n/2), 1), 1)\n",
    "data_pos = np.concatenate((x_pos, y_pos), axis=1)\n",
    "# concatenate negative and positive data and shuffle it\n",
    "data = np.concatenate((data_neg, data_pos), axis=0)\n",
    "np.random.shuffle(data)\n",
    "\n",
    "fname = f'../data_n{n}_m{m}_mu{mean}.csv'\n",
    "header = f'{n},{m}'\n",
    "np.savetxt(fname, data, delimiter=\",\", fmt='%.3f', header=header)"
   ]
  },
  {
   "cell_type": "code",
   "execution_count": 17,
   "metadata": {
    "collapsed": true,
    "jupyter": {
     "outputs_hidden": true
    }
   },
   "outputs": [
    {
     "name": "stdout",
     "output_type": "stream",
     "text": [
      "0.8586783081762076 1.0\n",
      "-1.1956452457723203 -1.0\n",
      "0.9376062198952949 1.0\n",
      "-0.9511001041559328 -1.0\n",
      "1.0965827051638704 1.0\n",
      "-0.8655898394286695 -1.0\n",
      "1.1466122006073902 1.0\n",
      "0.8291390789106786 1.0\n",
      "1.0382349773660569 1.0\n",
      "1.1424309846386085 1.0\n",
      "-1.047567858899435 -1.0\n",
      "1.00226292244079 1.0\n",
      "-0.9623662319220302 -1.0\n",
      "-1.3085201165662852 -1.0\n",
      "1.0951446988300664 1.0\n",
      "-1.029857519828699 -1.0\n",
      "-0.8954805939908915 -1.0\n",
      "0.9948098649846797 1.0\n",
      "-0.8680410188725504 -1.0\n",
      "1.0584753263992381 1.0\n",
      "1.0606532925389525 1.0\n",
      "1.235508627762848 1.0\n",
      "0.8620946361354329 1.0\n",
      "-1.0040667017739078 -1.0\n",
      "0.9613952397671239 1.0\n",
      "0.9347867139590473 1.0\n",
      "1.0879064140354435 1.0\n",
      "0.7399415567655848 1.0\n",
      "-1.2429575749387827 -1.0\n",
      "0.8465707357876582 1.0\n",
      "-1.170120241614519 -1.0\n",
      "0.9374385063384417 1.0\n",
      "1.0862388889965302 1.0\n",
      "-1.081626436511838 -1.0\n",
      "-1.074480526974766 -1.0\n",
      "-1.168522246730096 -1.0\n",
      "-1.0390949001640128 -1.0\n",
      "-0.9834224262520465 -1.0\n",
      "-1.1844721191076455 -1.0\n",
      "-0.9035470127668332 -1.0\n",
      "0.8475740215152292 1.0\n",
      "-1.1749695120439345 -1.0\n",
      "1.1060831437525234 1.0\n",
      "-1.103813637714704 -1.0\n",
      "-1.0198220349366522 -1.0\n",
      "-0.9446611468580738 -1.0\n",
      "1.1009592652744995 1.0\n",
      "-1.020577310521249 -1.0\n",
      "0.8444510508578819 1.0\n",
      "-0.801686943602757 -1.0\n"
     ]
    }
   ],
   "source": [
    "for i in range(50):\n",
    "    print(data[i].mean(), data[i][-1])"
   ]
  },
  {
   "cell_type": "code",
   "execution_count": null,
   "metadata": {},
   "outputs": [],
   "source": []
  }
 ],
 "metadata": {
  "kernelspec": {
   "display_name": "py37",
   "language": "python",
   "name": "py37"
  },
  "language_info": {
   "codemirror_mode": {
    "name": "ipython",
    "version": 3
   },
   "file_extension": ".py",
   "mimetype": "text/x-python",
   "name": "python",
   "nbconvert_exporter": "python",
   "pygments_lexer": "ipython3",
   "version": "3.7.3"
  }
 },
 "nbformat": 4,
 "nbformat_minor": 4
}
